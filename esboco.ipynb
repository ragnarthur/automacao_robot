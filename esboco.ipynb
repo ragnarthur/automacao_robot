{
 "cells": [
  {
   "cell_type": "markdown",
   "metadata": {},
   "source": [
    "# Entendendo o funcionamento do Selenium"
   ]
  },
  {
   "cell_type": "code",
   "execution_count": 24,
   "metadata": {},
   "outputs": [],
   "source": [
    "from selenium import webdriver\n",
    "from selenium.webdriver.common.keys import Keys\n",
    "from selenium.webdriver.common.by import By\n",
    "import time\n"
   ]
  },
  {
   "cell_type": "code",
   "execution_count": 42,
   "metadata": {},
   "outputs": [],
   "source": [
    "# fazendo login\n",
    "\n",
    "browser = webdriver.Chrome()\n",
    "browser.maximize_window()\n",
    "browser.get(\"http://automacao.empowerdata.com.br\")\n",
    "\n",
    "email = browser.find_element(By.XPATH, '//*[@id=\"email\"]')\n",
    "email.send_keys('aluno@empowerdata.com.br')\n",
    "time.sleep(1)\n",
    "email.send_keys(Keys.TAB)\n",
    "\n",
    "login = browser.find_element(By.XPATH, '//*[@id=\"password\"]')\n",
    "login.send_keys('empowerpython')\n",
    "\n",
    "botao_entrar = browser.find_element(By.XPATH, '//*[@id=\"submit\"]')\n",
    "botao_entrar.click()"
   ]
  },
  {
   "cell_type": "code",
   "execution_count": 22,
   "metadata": {},
   "outputs": [],
   "source": [
    "cliente = browser.find_element(By.XPATH, '//*[@id=\"nome\"]')\n",
    "cliente.send_keys('Arthur Araujo')\n",
    "email = browser.find_element(By.XPATH,'//*[@id=\"email\"]')\n",
    "email.send_keys('arthur@email.com')\n",
    "telefone = browser.find_element(By.XPATH,'//*[@id=\"telefone\"]')\n",
    "telefone.send_keys('(34)9999-8888')\n",
    "cidade = browser.find_element(By.XPATH,'//*[@id=\"cidade\"]')\n",
    "cidade.send_keys('Monte Carmelo')\n",
    "estado = browser.find_element(By.XPATH,'//*[@id=\"estado\"]')\n",
    "estado.send_keys('Minas Gerais')\n",
    "\n",
    "botao_cadastrar = browser.find_element(By.XPATH, '//*[@id=\"submit\"]')\n",
    "botao_cadastrar.click()"
   ]
  },
  {
   "cell_type": "markdown",
   "metadata": {},
   "source": [
    "### Importando os dados da planilha "
   ]
  },
  {
   "cell_type": "code",
   "execution_count": 25,
   "metadata": {},
   "outputs": [],
   "source": [
    "import pandas as pd"
   ]
  },
  {
   "cell_type": "code",
   "execution_count": 27,
   "metadata": {},
   "outputs": [],
   "source": [
    "df = pd.read_excel('cadastro_clientes.xlsx')"
   ]
  },
  {
   "cell_type": "code",
   "execution_count": 28,
   "metadata": {},
   "outputs": [
    {
     "data": {
      "text/html": [
       "<div>\n",
       "<style scoped>\n",
       "    .dataframe tbody tr th:only-of-type {\n",
       "        vertical-align: middle;\n",
       "    }\n",
       "\n",
       "    .dataframe tbody tr th {\n",
       "        vertical-align: top;\n",
       "    }\n",
       "\n",
       "    .dataframe thead th {\n",
       "        text-align: right;\n",
       "    }\n",
       "</style>\n",
       "<table border=\"1\" class=\"dataframe\">\n",
       "  <thead>\n",
       "    <tr style=\"text-align: right;\">\n",
       "      <th></th>\n",
       "      <th>Nome</th>\n",
       "      <th>E-mail</th>\n",
       "      <th>Telefone</th>\n",
       "      <th>Cidade</th>\n",
       "      <th>Estado</th>\n",
       "    </tr>\n",
       "  </thead>\n",
       "  <tbody>\n",
       "    <tr>\n",
       "      <th>0</th>\n",
       "      <td>Joana Cardoso</td>\n",
       "      <td>joana.cardoso@exemplo.com.br</td>\n",
       "      <td>(11) 9218-5801</td>\n",
       "      <td>São Bernardo</td>\n",
       "      <td>São Paulo</td>\n",
       "    </tr>\n",
       "    <tr>\n",
       "      <th>1</th>\n",
       "      <td>Bryan Duarte</td>\n",
       "      <td>bryan.duarte@exemplo.com.br</td>\n",
       "      <td>(21) 3547-3474</td>\n",
       "      <td>Niterói</td>\n",
       "      <td>Rio de Janeiro</td>\n",
       "    </tr>\n",
       "    <tr>\n",
       "      <th>2</th>\n",
       "      <td>Fernanda Nogueira</td>\n",
       "      <td>fernanda.nogueira@exemplo.com.br</td>\n",
       "      <td>(31) 1090-7993</td>\n",
       "      <td>Belo Horizonte</td>\n",
       "      <td>Minas Gerais</td>\n",
       "    </tr>\n",
       "    <tr>\n",
       "      <th>3</th>\n",
       "      <td>Juan Azevedo</td>\n",
       "      <td>juan.azevedo@exemplo.com.br</td>\n",
       "      <td>(41) 3452-3039</td>\n",
       "      <td>Curitiba</td>\n",
       "      <td>Paraná</td>\n",
       "    </tr>\n",
       "    <tr>\n",
       "      <th>4</th>\n",
       "      <td>Lucca Duarte</td>\n",
       "      <td>lucca.duarte@exemplo.com.br</td>\n",
       "      <td>(51) 3456-3454</td>\n",
       "      <td>Porto Alegre</td>\n",
       "      <td>Rio Grande do Sul</td>\n",
       "    </tr>\n",
       "  </tbody>\n",
       "</table>\n",
       "</div>"
      ],
      "text/plain": [
       "                Nome                            E-mail        Telefone  \\\n",
       "0      Joana Cardoso      joana.cardoso@exemplo.com.br  (11) 9218-5801   \n",
       "1       Bryan Duarte       bryan.duarte@exemplo.com.br  (21) 3547-3474   \n",
       "2  Fernanda Nogueira  fernanda.nogueira@exemplo.com.br  (31) 1090-7993   \n",
       "3       Juan Azevedo       juan.azevedo@exemplo.com.br  (41) 3452-3039   \n",
       "4       Lucca Duarte       lucca.duarte@exemplo.com.br  (51) 3456-3454   \n",
       "\n",
       "           Cidade             Estado  \n",
       "0    São Bernardo          São Paulo  \n",
       "1         Niterói     Rio de Janeiro  \n",
       "2  Belo Horizonte       Minas Gerais  \n",
       "3        Curitiba             Paraná  \n",
       "4    Porto Alegre  Rio Grande do Sul  "
      ]
     },
     "execution_count": 28,
     "metadata": {},
     "output_type": "execute_result"
    }
   ],
   "source": [
    "df.head()"
   ]
  },
  {
   "cell_type": "code",
   "execution_count": 43,
   "metadata": {},
   "outputs": [],
   "source": [
    "# interando sobre o dataframe\n",
    "\n",
    "for _, linha in df.iterrows():\n",
    "    cliente = browser.find_element(By.XPATH, '//*[@id=\"nome\"]')\n",
    "    cliente.send_keys(linha['Nome'])\n",
    "    email = browser.find_element(By.XPATH,'//*[@id=\"email\"]')\n",
    "    email.send_keys(linha['E-mail'])\n",
    "    telefone = browser.find_element(By.XPATH,'//*[@id=\"telefone\"]')\n",
    "    telefone.send_keys(linha['Telefone'])\n",
    "    cidade = browser.find_element(By.XPATH,'//*[@id=\"cidade\"]')\n",
    "    cidade.send_keys(linha['Cidade'])\n",
    "    estado = browser.find_element(By.XPATH,'//*[@id=\"estado\"]')\n",
    "    estado.send_keys(linha['Estado'])\n",
    "\n",
    "    time.sleep(2)\n",
    "\n",
    "    botao_cadastrar = browser.find_element(By.XPATH, '//*[@id=\"submit\"]')\n",
    "    botao_cadastrar.click()\n",
    "\n",
    "\n",
    "    break"
   ]
  },
  {
   "cell_type": "code",
   "execution_count": null,
   "metadata": {},
   "outputs": [],
   "source": []
  }
 ],
 "metadata": {
  "kernelspec": {
   "display_name": ".venv",
   "language": "python",
   "name": "python3"
  },
  "language_info": {
   "codemirror_mode": {
    "name": "ipython",
    "version": 3
   },
   "file_extension": ".py",
   "mimetype": "text/x-python",
   "name": "python",
   "nbconvert_exporter": "python",
   "pygments_lexer": "ipython3",
   "version": "3.12.4"
  }
 },
 "nbformat": 4,
 "nbformat_minor": 2
}
